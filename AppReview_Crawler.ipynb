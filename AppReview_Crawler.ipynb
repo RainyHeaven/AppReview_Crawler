{
 "cells": [
  {
   "cell_type": "code",
   "execution_count": 31,
   "metadata": {},
   "outputs": [],
   "source": [
    "from selenium import webdriver"
   ]
  },
  {
   "cell_type": "code",
   "execution_count": 36,
   "metadata": {
    "collapsed": true
   },
   "outputs": [],
   "source": [
    "#파일 경로\n",
    "save_path = 'c:/cr/app'\n",
    "driver_path = 'c:/cd/chromedriver'\n",
    "\n",
    "# 파일형식\n",
    "save_type = 'csv'\n",
    "\n",
    "#헤더 설정\n",
    "user_agent=\"Mozilla/5.0 (Macintosh; Intel Mac OS X 10_9_4) \" +\\\n",
    "\"AppleWebKit/537.36 (KHTML, like Gecko) \" + \\\n",
    "\"Chrome/37.0.2062.94 Safari/537.36\"\n",
    "headers = {\"User-Agent\": user_agent}\n",
    "\n",
    "#접속 URL\n",
    "#게임: 최고매출\n",
    "url = 'https://play.google.com/store/apps/category/GAME/collection/topgrossing'\n",
    "#찾고싶은 앱의 갯수(ex.상위 10)\n",
    "app_num = 10"
   ]
  },
  {
   "cell_type": "code",
   "execution_count": 32,
   "metadata": {},
   "outputs": [],
   "source": [
    "browser = webdriver.Chrome(driver_path)\n",
    "browser.implicitly_wait(3)\n",
    "browser.get(url)\n",
    "#body-content > div.outer-container > div > div.main-content > div > div > div > div.id-card-list.card-list.two-cards > div:nth-child(1)\n",
    "#body-content > div.outer-container > div > div.main-content > div > div > div > div.id-card-list.card-list.two-cards > div:nth-child(2)"
   ]
  },
  {
   "cell_type": "markdown",
   "metadata": {},
   "source": [
    "# 1. 접속\n",
    "## - url 접속\n",
    "## - 앱 클릭\n",
    "\n",
    "# 2. 크롤링\n",
    "## 리뷰 모두 보기 클릭\n",
    "## 원하는 정도까지 스크롤 다운\n",
    "## 리뷰 크롤링 (별점, 고객리뷰)\n"
   ]
  },
  {
   "cell_type": "code",
   "execution_count": 34,
   "metadata": {},
   "outputs": [],
   "source": [
    "class ARcrawler:\n",
    "    def __init__(self, url, app_num):\n",
    "        self.url = url\n",
    "        self.app_num = app_num\n",
    "    \n",
    "    "
   ]
  },
  {
   "cell_type": "code",
   "execution_count": 42,
   "metadata": {
    "collapsed": true
   },
   "outputs": [],
   "source": [
    "def click_app(browser, index):\n",
    "    app = '//*[@id=\"body-content\"]/div/div/div[1]/div/div/div/div[2]/div[{}]'.format(index)\n",
    "    browser.find_element_by_xpath(app).click()"
   ]
  }
 ],
 "metadata": {
  "kernelspec": {
   "display_name": "Python 3",
   "language": "python",
   "name": "python3"
  },
  "language_info": {
   "codemirror_mode": {
    "name": "ipython",
    "version": 3
   },
   "file_extension": ".py",
   "mimetype": "text/x-python",
   "name": "python",
   "nbconvert_exporter": "python",
   "pygments_lexer": "ipython3",
   "version": "3.6.3"
  }
 },
 "nbformat": 4,
 "nbformat_minor": 2
}
