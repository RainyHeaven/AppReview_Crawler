{
 "cells": [
  {
   "cell_type": "code",
   "execution_count": 15,
   "metadata": {
    "collapsed": true
   },
   "outputs": [],
   "source": [
    "from selenium import webdriver\n",
    "import time\n",
    "\n",
    "#파일 경로\n",
    "save_path = 'c:/cr/app/'\n",
    "driver_path = 'c:/cd/chromedriver'\n",
    "\n",
    "# 파일형식\n",
    "save_type = 'csv'\n",
    "\n",
    "#헤더 설정\n",
    "user_agent=\"Mozilla/5.0 (Macintosh; Intel Mac OS X 10_9_4) \" +\\\n",
    "\"AppleWebKit/537.36 (KHTML, like Gecko) \" + \\\n",
    "\"Chrome/37.0.2062.94 Safari/537.36\"\n",
    "headers = {\"User-Agent\": user_agent}\n",
    "\n",
    "#접속 URL\n",
    "#게임: 최고매출\n",
    "url = 'https://play.google.com/store/apps/category/GAME/collection/topgrossing'\n",
    "#찾고싶은 앱의 순위\n",
    "index = 2\n",
    "#찾고싶은 페이지 수 (기본 120개, 반복 1회당 120개 추가) ex. 1일때 240개, 2일때 360개의 리뷰를 가져옴\n",
    "repeat = 2"
   ]
  },
  {
   "cell_type": "code",
   "execution_count": 2,
   "metadata": {
    "collapsed": true
   },
   "outputs": [],
   "source": [
    "browser = webdriver.Chrome(driver_path)\n",
    "browser.implicitly_wait(3)\n",
    "browser.get(url)\n",
    "#body-content > div.outer-container > div > div.main-content > div > div > div > div.id-card-list.card-list.two-cards > div:nth-child(1)\n",
    "#body-content > div.outer-container > div > div.main-content > div > div > div > div.id-card-list.card-list.two-cards > div:nth-child(2)"
   ]
  },
  {
   "cell_type": "code",
   "execution_count": 12,
   "metadata": {},
   "outputs": [],
   "source": [
    "class ARcrawler:\n",
    "    def __init__(self, url, index):\n",
    "        self.url = url\n",
    "        self.index = index\n",
    "        \n",
    "    \n",
    "    def click_app(browser, index=1, order=1):\n",
    "        # index 순위의 앱 클릭\n",
    "        browser.find_element_by_xpath('//*[@id=\"body-content\"]/div/div/div[1]/div/div/div/div[2]/div[{}]'.format(index)).click()\n",
    "        browser.implicitly_wait(3)\n",
    "        #리뷰 모두보기 클릭\n",
    "        browser.find_element_by_xpath('//*[@id=\"fcxH9b\"]/div[4]/c-wiz/div/div[2]/div/div[1]/div/div/div/div[6]/div/content/span').click()\n",
    "        #리뷰를 원하는 방식으로 정렬. 기본은 최신. (1. 최신 2. 높은 평점순 3. 유용도순)\n",
    "        browser.find_element_by_xpath('//*[@id=\"fcxH9b\"]/div[4]/c-wiz[2]/div/div[2]/div/div[1]/div/div/div/div[2]/c-wiz/div/div/div[1]/div[2]/span').click()\n",
    "        browser.find_element_by_xpath('//*[@id=\"fcxH9b\"]/div[4]/c-wiz[2]/div/div[2]/div/div[1]/div/div/div/div[2]/c-wiz/div/div/div[2]/div[{}]'.format(order)).click()\n",
    "        return(index)\n",
    "    \n",
    "    \n",
    "    def page_scroll(browser):\n",
    "        SCROLL_PAUSE_TIME = 1\n",
    "\n",
    "        # Get scroll height\n",
    "        last_height = browser.execute_script(\"return document.body.scrollHeight\")\n",
    "\n",
    "        while True:\n",
    "            # Scroll down to bottom\n",
    "            browser.execute_script(\"window.scrollTo(0, document.body.scrollHeight);\")\n",
    "\n",
    "            # Wait to load page\n",
    "            time.sleep(SCROLL_PAUSE_TIME)\n",
    "\n",
    "            # Calculate new scroll height and compare with last scroll height\n",
    "            new_height = browser.execute_script(\"return document.body.scrollHeight\")\n",
    "            if new_height == last_height:\n",
    "                break\n",
    "            last_height = new_height\n",
    "    \n",
    "    \n",
    "    def more_pages(browser, repeat=1):\n",
    "        for i in range(repeat):\n",
    "            ARcrawler.page_scroll(browser)\n",
    "            browser.implicitly_wait(5)\n",
    "            browser.find_element_by_css_selector('div.JNury.Ekdcne > div > div > div > div > div.Ir7OJc > div > content > span').click()\n",
    "            \n",
    "            \n",
    "    def get_reviews(browser):\n",
    "        results = []\n",
    "        ids = browser.find_elements_by_css_selector('div.JNury.Ekdcne > div > div > div > div > div > div > div > div.QV3svb.GVFJbb > div.H9roif.Boieuf > div.GVFJbb.jBjpkf > span')\n",
    "        rates = browser.find_elements_by_css_selector('div.JNury.Ekdcne > div > div > div > div > div > div > div > div.QV3svb.GVFJbb > div.H9roif.Boieuf > div.GVFJbb.jBjpkf > div > span.qC3s2c > div > div')\n",
    "        dates = browser.find_elements_by_css_selector('div.JNury.Ekdcne > div > div > div > div > div > div > div > div.QV3svb.GVFJbb > div.H9roif.Boieuf > div.GVFJbb.jBjpkf > div > span.oldIDd')\n",
    "        reviews = browser.find_elements_by_css_selector('div.JNury.Ekdcne > div > div > div > div > div > div > div > div.QV3svb.GVFJbb > div.Z8UXhc > span')\n",
    "        \n",
    "        for i in range(len(ids)):\n",
    "            results.append([ids[i].text, rates[i].get_attribute('aria-label'), dates[i].text, reviews[i*2].text])\n",
    "        \n",
    "        return(results)\n",
    " \n",
    "\n",
    "    def save(index):\n",
    "        txt_path = save_path + '{}_app_reviews.txt'.format(index)\n",
    "        with open(txt_path, 'w+', encoding = 'utf-8')as f:\n",
    "            for result in results:\n",
    "                f.write(','.join(result))\n",
    "                f.write('\\n')"
   ]
  },
  {
   "cell_type": "code",
   "execution_count": 16,
   "metadata": {
    "scrolled": true
   },
   "outputs": [],
   "source": [
    "ARcrawler.click_app(browser, index)\n",
    "ARcrawler.more_pages(browser, repeat)\n",
    "results = ARcrawler.get_reviews(browser)\n",
    "ARcrawler.save(index)"
   ]
  },
  {
   "cell_type": "code",
   "execution_count": 17,
   "metadata": {},
   "outputs": [
    {
     "data": {
      "text/plain": [
       "360"
      ]
     },
     "execution_count": 17,
     "metadata": {},
     "output_type": "execute_result"
    }
   ],
   "source": [
    "len(results)"
   ]
  }
 ],
 "metadata": {
  "kernelspec": {
   "display_name": "Python 3",
   "language": "python",
   "name": "python3"
  },
  "language_info": {
   "codemirror_mode": {
    "name": "ipython",
    "version": 3
   },
   "file_extension": ".py",
   "mimetype": "text/x-python",
   "name": "python",
   "nbconvert_exporter": "python",
   "pygments_lexer": "ipython3",
   "version": "3.6.3"
  }
 },
 "nbformat": 4,
 "nbformat_minor": 2
}
